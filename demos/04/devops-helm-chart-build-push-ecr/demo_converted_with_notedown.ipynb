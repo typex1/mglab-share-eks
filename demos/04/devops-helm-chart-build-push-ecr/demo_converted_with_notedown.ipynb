{
 "cells": [
  {
   "cell_type": "markdown",
   "id": "8e40d11b",
   "metadata": {},
   "source": [
    "## devops-helm-chart-build-push-ecr\n",
    "\n",
    "#### GIVEN:\n",
    "  - A developer desktop with docker & git installed (AWS Cloud9)\n",
    "  - An EKS cluster created via eksctl from demo: 03/create-cluster-eksctl-existing-vpc-advanced\n",
    "  - A helm chart templates directory prepared for a simple nginx deployment\n",
    "\n",
    "#### WHEN:\n",
    "  - I install the helm cli\n",
    "  - I create an ECR repository\n",
    "  - I build my helm chart my C9 desktop\n",
    "\n",
    "#### THEN:\n",
    "  - I will get a local helm chart\n",
    "  - I will get an ECR repository\n",
    "\n",
    "#### SO THAT:\n",
    "  - I can build a helm chart\n",
    "  - I can push the helm chart up to ECR (OCI)\n",
    "  - I can deploy a nginx workload using the helm chart I just pushed up to ECR\n",
    "\n",
    "#### [Return to Main Readme](https://github.com/bwer432/mglab-share-eks#demos)\n",
    "\n",
    "---------------------------------------------------------------\n",
    "---------------------------------------------------------------\n",
    "### REQUIRES\n",
    "- 00-setup-cloud9\n",
    "- 03/create-cluster-eksctl-existing-vpc-advanced\n",
    "\n",
    "---------------------------------------------------------------\n",
    "---------------------------------------------------------------\n",
    "### DEMO\n",
    "\n",
    "#### 0: Reset Cloud9 Instance environ from previous demo(s).\n",
    "- Reset your region & AWS account variables in case you launched a new terminal session:"
   ]
  },
  {
   "cell_type": "code",
   "execution_count": null,
   "id": "f574b0af",
   "metadata": {},
   "outputs": [],
   "source": [
    "cd ~/environment/mglab-share-eks/demos/04/devops-helm-chart-build-push-ecr/\n",
    "export C9_REGION=$(curl --silent http://169.254.169.254/latest/dynamic/instance-identity/document |  grep region | awk -F '\"' '{print$4}')\n",
    "export C9_AWS_ACCT=$(curl -s http://169.254.169.254/latest/dynamic/instance-identity/document | grep accountId | awk -F '\"' '{print$4}')\n",
    "export AWS_ACCESS_KEY_ID=$(cat ~/.aws/credentials | grep aws_access_key_id | awk '{print$3}')\n",
    "export AWS_SECRET_ACCESS_KEY=$(cat ~/.aws/credentials | grep aws_secret_access_key | awk '{print$3}')\n",
    "\n",
    "echo $C9_REGION\n",
    "echo $C9_AWS_ACCT"
   ]
  },
  {
   "cell_type": "markdown",
   "id": "f294dc0d",
   "metadata": {},
   "source": [
    "#### 1: Create ECR repository to push helm chart up to.\n",
    "- [DOC LINK](https://docs.aws.amazon.com/AmazonECR/latest/userguide/ECR_on_EKS.html#using-helm-charts-eks)\n",
    "\n",
    "- Create ECR repository to share our image:"
   ]
  },
  {
   "cell_type": "code",
   "execution_count": null,
   "id": "71023299",
   "metadata": {},
   "outputs": [],
   "source": [
    "aws ecr create-repository --repository-name demo-nginx-helm --region $C9_REGION"
   ]
  },
  {
   "cell_type": "markdown",
   "id": "48f9dd29",
   "metadata": {},
   "source": [
    "#### 2: Update our kubeconfig to interact with the cluster created in 03-create-advanced-cluster-eksctl-existing-vpc.\n",
    "- Review your kubeconfig:"
   ]
  },
  {
   "cell_type": "code",
   "execution_count": null,
   "id": "25a6d157",
   "metadata": {},
   "outputs": [],
   "source": [
    "eksctl utils write-kubeconfig --cluster cluster-eksctl --region $C9_REGION --authenticator-role-arn arn:aws:iam::${C9_AWS_ACCT}:role/cluster-eksctl-creator-role\n",
    "kubectl config view --minify | grep 'cluster-name' -A 1\n",
    "kubectl get ns"
   ]
  },
  {
   "cell_type": "markdown",
   "id": "52606e7f",
   "metadata": {},
   "source": [
    "#### 3: Install the helm cli.\n",
    "- Install helm v3:"
   ]
  },
  {
   "cell_type": "code",
   "execution_count": null,
   "id": "319eb9e2",
   "metadata": {},
   "outputs": [],
   "source": [
    "curl https://raw.githubusercontent.com/kubernetes/helm/master/scripts/get-helm-3 > get_helm.sh\n",
    "chmod 700 get_helm.sh\n",
    "./get_helm.sh"
   ]
  },
  {
   "cell_type": "markdown",
   "id": "726708df",
   "metadata": {},
   "source": [
    "#### 4: Build Helm Chart & store locally on C9 instance.\n",
    "- Build Chart:"
   ]
  },
  {
   "cell_type": "code",
   "execution_count": null,
   "id": "a8a634b1",
   "metadata": {},
   "outputs": [],
   "source": [
    "cd ~/environment/mglab-share-eks/demos/04/devops-helm-chart-build-push-ecr/artifacts\n",
    "helm package demo-nginx-helm"
   ]
  },
  {
   "cell_type": "markdown",
   "id": "28f63471",
   "metadata": {},
   "source": [
    "#### 5: Push Helm Chart up to ECR.\n",
    "- Enable OCI support in Helm v3 CLI:"
   ]
  },
  {
   "cell_type": "code",
   "execution_count": null,
   "id": "12e6cfc8",
   "metadata": {},
   "outputs": [],
   "source": [
    "export HELM_EXPERIMENTAL_OCI=1"
   ]
  },
  {
   "cell_type": "markdown",
   "id": "f8107e80",
   "metadata": {},
   "source": [
    "- AuthN to ECR and push up Chart:"
   ]
  },
  {
   "cell_type": "code",
   "execution_count": null,
   "id": "f631e82c",
   "metadata": {},
   "outputs": [],
   "source": [
    "aws ecr get-login-password | helm registry login --username AWS --password-stdin $C9_AWS_ACCT.dkr.ecr.$C9_REGION.amazonaws.com"
   ]
  },
  {
   "cell_type": "markdown",
   "id": "4496363b",
   "metadata": {},
   "source": [
    "- Push helm chart up to ECR:"
   ]
  },
  {
   "cell_type": "code",
   "execution_count": null,
   "id": "c36f413b",
   "metadata": {},
   "outputs": [],
   "source": [
    "helm push demo-nginx-helm-0.1.1.tgz oci://$C9_AWS_ACCT.dkr.ecr.$C9_REGION.amazonaws.com/"
   ]
  },
  {
   "cell_type": "markdown",
   "id": "2a3f96e5",
   "metadata": {},
   "source": [
    "#### 6: Deploy Chart from ECR to eks cluster 'cluster-eksctl'.\n",
    "- Make empty temp local directory to simulate pulling Helm chart from ECR into:"
   ]
  },
  {
   "cell_type": "code",
   "execution_count": null,
   "id": "1b00be08",
   "metadata": {},
   "outputs": [],
   "source": [
    "mkdir -p ~/environment/blah && cd ~/environment/blah\n",
    "ls"
   ]
  },
  {
   "cell_type": "markdown",
   "id": "10b97a66",
   "metadata": {},
   "source": [
    "- Pull OCI Helm chart down to local C9 instance into temp local directory:"
   ]
  },
  {
   "cell_type": "code",
   "execution_count": null,
   "id": "c8cd829f",
   "metadata": {},
   "outputs": [],
   "source": [
    "helm pull oci://$C9_AWS_ACCT.dkr.ecr.$C9_REGION.amazonaws.com/demo-nginx-helm --version 0.1.1\n",
    "ls -all\n",
    "tar -xvzf demo-nginx-helm-0.1.1.tgz"
   ]
  },
  {
   "cell_type": "markdown",
   "id": "f3e34507",
   "metadata": {},
   "source": [
    "- Show chart possible values to override:"
   ]
  },
  {
   "cell_type": "code",
   "execution_count": null,
   "id": "af32796a",
   "metadata": {},
   "outputs": [],
   "source": [
    "helm show chart demo-nginx-helm\n",
    "helm show values demo-nginx-helm"
   ]
  },
  {
   "cell_type": "markdown",
   "id": "efccde15",
   "metadata": {},
   "source": [
    "- Deploy our nginx chart with default values:"
   ]
  },
  {
   "cell_type": "code",
   "execution_count": null,
   "id": "164309da",
   "metadata": {},
   "outputs": [],
   "source": [
    "helm install my-nginx demo-nginx-helm\n",
    "helm status my-nginx -n default\n",
    "helm ls -A"
   ]
  },
  {
   "cell_type": "markdown",
   "id": "1d3f2f9a",
   "metadata": {},
   "source": [
    "- Show what the helm Chart created in the cluster:"
   ]
  },
  {
   "cell_type": "code",
   "execution_count": null,
   "id": "b873c582",
   "metadata": {},
   "outputs": [],
   "source": [
    "kubectl get deploy -n default -o yaml"
   ]
  },
  {
   "cell_type": "markdown",
   "id": "28d52e69",
   "metadata": {},
   "source": [
    "- Show the passed paramters that were given when deploying the helm chart:"
   ]
  },
  {
   "cell_type": "code",
   "execution_count": null,
   "id": "a6d1f193",
   "metadata": {},
   "outputs": [],
   "source": [
    "helm get values my-nginx -n default\n",
    "helm get values my-nginx -n default --all"
   ]
  },
  {
   "cell_type": "markdown",
   "id": "d770210b",
   "metadata": {},
   "source": [
    "#### 7: Update the Deployed Helm Chart.\n",
    "- Show current image for the deployment:"
   ]
  },
  {
   "cell_type": "code",
   "execution_count": null,
   "id": "3c7e8350",
   "metadata": {},
   "outputs": [],
   "source": [
    "kubectl get deploy my-nginx-demo-nginx-helm -n default -o yaml | grep image"
   ]
  },
  {
   "cell_type": "markdown",
   "id": "2a8cbe04",
   "metadata": {},
   "source": [
    "- Override chart values for image with public ECR image:"
   ]
  },
  {
   "cell_type": "code",
   "execution_count": null,
   "id": "58d2213f",
   "metadata": {},
   "outputs": [],
   "source": [
    "helm upgrade \\\n",
    "      --set image.repository=public.ecr.aws/u3e9a9s8/nginx \\\n",
    "      --set image.tag=latest \\\n",
    "      my-nginx ./demo-nginx-helm  -n default"
   ]
  },
  {
   "cell_type": "markdown",
   "id": "270b6ac9",
   "metadata": {},
   "source": [
    "- Show updated image for the deployment:"
   ]
  },
  {
   "cell_type": "code",
   "execution_count": null,
   "id": "524e621b",
   "metadata": {},
   "outputs": [],
   "source": [
    "kubectl get deploy my-nginx-demo-nginx-helm -n default -o yaml | grep image"
   ]
  },
  {
   "cell_type": "markdown",
   "id": "9678c5b8",
   "metadata": {},
   "source": [
    "- See how helm captures state with default secrets backend:"
   ]
  },
  {
   "cell_type": "code",
   "execution_count": null,
   "id": "2a34ea29",
   "metadata": {},
   "outputs": [],
   "source": [
    "kubectl get secret -n default | grep nginx"
   ]
  },
  {
   "cell_type": "markdown",
   "id": "587e3bf7",
   "metadata": {},
   "source": [
    "- Use helm cli to 'Rollback' revision:"
   ]
  },
  {
   "cell_type": "code",
   "execution_count": null,
   "id": "558e295e",
   "metadata": {},
   "outputs": [],
   "source": [
    "helm history my-nginx -n default\n",
    "sleep 3\n",
    "helm rollback my-nginx 1 -n default"
   ]
  },
  {
   "cell_type": "markdown",
   "id": "d67ef258",
   "metadata": {},
   "source": [
    "- Show original image for the deployment:"
   ]
  },
  {
   "cell_type": "code",
   "execution_count": null,
   "id": "952909ee",
   "metadata": {},
   "outputs": [],
   "source": [
    "kubectl get deploy my-nginx-demo-nginx-helm -n default -o yaml | grep image\n",
    "helm history my-nginx -n default"
   ]
  },
  {
   "cell_type": "markdown",
   "id": "eb947baf",
   "metadata": {},
   "source": [
    "#### 8: Interact with well known public Helm Chart Repos.\n",
    "- Add public repos & Show External Chart Values:"
   ]
  },
  {
   "cell_type": "code",
   "execution_count": null,
   "id": "f98ef0ec",
   "metadata": {},
   "outputs": [],
   "source": [
    "helm repo add bitnami https://charts.bitnami.com/bitnami\n",
    "helm repo add eks https://aws.github.io/eks-charts\n",
    "helm repo update"
   ]
  },
  {
   "cell_type": "markdown",
   "id": "88998e28",
   "metadata": {},
   "source": [
    "- Search for a chart in a public repo:"
   ]
  },
  {
   "cell_type": "code",
   "execution_count": null,
   "id": "4c3542a4",
   "metadata": {},
   "outputs": [],
   "source": [
    "helm search repo eks\n",
    "helm search repo eks --version ^1.0.0"
   ]
  },
  {
   "cell_type": "markdown",
   "id": "5e01aba9",
   "metadata": {},
   "source": [
    "- Inspect chart in a public repo:"
   ]
  },
  {
   "cell_type": "code",
   "execution_count": null,
   "id": "6f8a9ec5",
   "metadata": {},
   "outputs": [],
   "source": [
    "helm show values bitnami/wordpress"
   ]
  },
  {
   "cell_type": "markdown",
   "id": "6d4b901d",
   "metadata": {},
   "source": [
    "- Pull a well known public chart down to inspect it locally:"
   ]
  },
  {
   "cell_type": "code",
   "execution_count": null,
   "id": "c41cf19c",
   "metadata": {},
   "outputs": [],
   "source": [
    "helm pull bitnami/wordpress"
   ]
  },
  {
   "cell_type": "markdown",
   "id": "186a802b",
   "metadata": {},
   "source": [
    "---------------------------------------------------------------\n",
    "---------------------------------------------------------------\n",
    "### DEPENDENTS\n",
    "\n",
    "---------------------------------------------------------------\n",
    "---------------------------------------------------------------\n",
    "### CLEANUP\n",
    "- Do not cleanup if you plan to run any dependent demos"
   ]
  },
  {
   "cell_type": "code",
   "execution_count": null,
   "id": "f416f911",
   "metadata": {},
   "outputs": [],
   "source": [
    "export C9_REGION=$(curl --silent http://169.254.169.254/latest/dynamic/instance-identity/document |  grep region | awk -F '\"' '{print$4}')\n",
    "export C9_AWS_ACCT=$(curl -s http://169.254.169.254/latest/dynamic/instance-identity/document | grep accountId | awk -F '\"' '{print$4}')\n",
    "aws ecr delete-repository --repository-name demo-nginx-helm --region $C9_REGION --force\n",
    "eksctl utils write-kubeconfig --cluster cluster-eksctl --region $C9_REGION --authenticator-role-arn arn:aws:iam::${C9_AWS_ACCT}:role/cluster-eksctl-creator-role\n",
    "helm delete my-nginx -n default\n",
    "rm -rf ~/environment/blah\n",
    "rm ~/environment/mglab-share-eks/demos/04/devops-helm-chart-build-push-ecr/artifacts/wordpress*\n"
   ]
  }
 ],
 "metadata": {},
 "nbformat": 4,
 "nbformat_minor": 5
}
